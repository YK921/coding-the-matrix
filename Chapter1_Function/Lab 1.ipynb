{
 "cells": [
  {
   "cell_type": "code",
   "execution_count": 1,
   "metadata": {
    "collapsed": true
   },
   "outputs": [],
   "source": [
    "#Lab 1 by YK"
   ]
  },
  {
   "cell_type": "code",
   "execution_count": 11,
   "metadata": {
    "collapsed": false
   },
   "outputs": [
    {
     "data": {
      "text/plain": [
       "10080"
      ]
     },
     "execution_count": 11,
     "metadata": {},
     "output_type": "execute_result"
    }
   ],
   "source": [
    "##Task 1.5.1: 파이썬을 사용하여 1주는 몇 분인지 계산 하여라\n",
    "#1주는 7일,\n",
    "#1일은 24시간\n",
    "#1시간은 60분\n",
    "\n",
    "7*24*60"
   ]
  },
  {
   "cell_type": "code",
   "execution_count": 13,
   "metadata": {
    "collapsed": false
   },
   "outputs": [
    {
     "data": {
      "text/plain": [
       "25"
      ]
     },
     "execution_count": 13,
     "metadata": {},
     "output_type": "execute_result"
    }
   ],
   "source": [
    "##Task 1.5.2: 파이썬을 사용하여 모듈 연산 %를 사용 하지 않고 2304811을 47로 나눈 나머지를 구하라 (힌트 //)\n",
    "# 2304811 / 47\n",
    "# 2304811 // 47\n",
    "\n",
    "2304811 - (2304811 // 47)*47\n",
    "# 2304811 % 47"
   ]
  },
  {
   "cell_type": "code",
   "execution_count": 24,
   "metadata": {
    "collapsed": false
   },
   "outputs": [
    {
     "data": {
      "text/plain": [
       "False"
      ]
     },
     "execution_count": 24,
     "metadata": {},
     "output_type": "execute_result"
    }
   ],
   "source": [
    "## Taks 1.5.3: 673과 909의 합이 3을 나누어지는지 알아보는 불리언 표현식을 입렵하라\n",
    "\n",
    "True and not((673 + 909)%3)"
   ]
  },
  {
   "cell_type": "code",
   "execution_count": 30,
   "metadata": {
    "collapsed": false
   },
   "outputs": [
    {
     "data": {
      "text/plain": [
       "1.0"
      ]
     },
     "execution_count": 30,
     "metadata": {},
     "output_type": "execute_result"
    }
   ],
   "source": [
    "## Task 1.5.4 x에 -9, y에 1/2을 할당하자 다음 표현식의 값을 예측해보고, 실제 이 표현식을 입력하여 예측한 결과가 맞는지 알아보자.\n",
    "\n",
    "x = -9\n",
    "y = 1/2\n",
    "\n",
    "2**(y+1/2) if x+10<0 else 2**(y-1/2)"
   ]
  },
  {
   "cell_type": "code",
   "execution_count": 31,
   "metadata": {
    "collapsed": false
   },
   "outputs": [
    {
     "data": {
      "text/plain": [
       "{1, 4, 9}"
      ]
     },
     "execution_count": 31,
     "metadata": {},
     "output_type": "execute_result"
    }
   ],
   "source": [
    "## Task 1.5.5: 집합 {1,2,3,4,5}에 대한 콤프리헨션을 작성, 처음 다섯개의 정소의 제곱값으로 이루어진 집합\n",
    "{x**2 for x in {1,2,3}}"
   ]
  },
  {
   "cell_type": "code",
   "execution_count": 32,
   "metadata": {
    "collapsed": false
   },
   "outputs": [
    {
     "data": {
      "text/plain": [
       "{1, 2, 4, 8, 16}"
      ]
     },
     "execution_count": 32,
     "metadata": {},
     "output_type": "execute_result"
    }
   ],
   "source": [
    "## Task 1.5.6: 집합 {0,1,2,3,4} 에 대한 컴프리헨션을 작성해 보자. 이 컴프리헨션의 값은 2^0부터 시작하여 \n",
    "## 처음 다섯개의 2의 거듭 제곱으로 구성된 집합이다\n",
    "{2**x for x in {0,1,2,3,4}}"
   ]
  },
  {
   "cell_type": "code",
   "execution_count": 37,
   "metadata": {
    "collapsed": false
   },
   "outputs": [
    {
     "data": {
      "text/plain": [
       "{4, 5, 7, 8, 10, 12, 14, 15, 21}"
      ]
     },
     "execution_count": 37,
     "metadata": {},
     "output_type": "execute_result"
    }
   ],
   "source": [
    "## Task 1.5.7: {x*y for x in {1,2,3} for y in {2,3,4}} 의 값은 7개의 원소로 구성된 집합니다.\n",
    "## {1,2,3} 과 {2,3,4}를 원소가 3개인 다른 두 개의 집합으로 바꾸어 컴프리헨션 결과가 9개 원소로 이루어진 집합이 되게 해보자.\n",
    "{x*y for x in {1,2,3} for y in {4,5,7}}"
   ]
  },
  {
   "cell_type": "code",
   "execution_count": 41,
   "metadata": {
    "collapsed": false
   },
   "outputs": [
    {
     "data": {
      "text/plain": [
       "{2, 3, 6, 12, 18}"
      ]
     },
     "execution_count": 41,
     "metadata": {},
     "output_type": "execute_result"
    }
   ],
   "source": [
    "## Task 1.5.8: 앞의 컨프리헨션에서 {1,2,3}과 {2,3,4}을 두 개의 서로 겹치지 않는 (disjoint) 3개의 원소로 구성된 집합으로 \n",
    "## 대체하여 결과가 5개의 원소로 이루어진 집합이 되게 해보자\n",
    "{x*y for x in {1,2,3} for y in {2,3,6} if x != y}"
   ]
  },
  {
   "cell_type": "code",
   "execution_count": 43,
   "metadata": {
    "collapsed": false
   },
   "outputs": [
    {
     "data": {
      "text/plain": [
       "{3, 4}"
      ]
     },
     "execution_count": 43,
     "metadata": {},
     "output_type": "execute_result"
    }
   ],
   "source": [
    "## Task 1.5.9: 집합 S와 T는 할당된 집합이라고 가정하자. 교집합 연사자 &를 사용하지 않고 S에 대한 컴프리헨션을 작성하여 그 결과\n",
    "## 값이 S 와 T의 교집합이 되게 해보자. 힌트 : 컴프리헨션의 마지막에 필터를 사용하여 멤버십을 테스트 하면 된다.\n",
    "## S = {1,2,3,4} 와 T = {3,4,5,6}을 사용하여 작성한 컴프리헨션을 테스트 해보자\n",
    "{x for x in {1,2,3,4} for y in {3,4,5,6} if x == y}"
   ]
  },
  {
   "cell_type": "code",
   "execution_count": 45,
   "metadata": {
    "collapsed": false
   },
   "outputs": [
    {
     "data": {
      "text/plain": [
       "30.0"
      ]
     },
     "execution_count": 45,
     "metadata": {},
     "output_type": "execute_result"
    }
   ],
   "source": [
    "## Task 1.5.10: 값이 List [20, 10, 15, 75] 내 원소들의 평균이 되는 표현식을 작성 하여라\n",
    "List = [20,10,15,75]\n",
    "sum(List) / len(List)"
   ]
  },
  {
   "cell_type": "code",
   "execution_count": 50,
   "metadata": {
    "collapsed": false
   },
   "outputs": [
    {
     "data": {
      "text/plain": [
       "[['A', 1],\n",
       " ['A', 2],\n",
       " ['A', 3],\n",
       " ['B', 1],\n",
       " ['B', 2],\n",
       " ['B', 3],\n",
       " ['C', 1],\n",
       " ['C', 2],\n",
       " ['C', 3]]"
      ]
     },
     "execution_count": 50,
     "metadata": {},
     "output_type": "execute_result"
    }
   ],
   "source": [
    "## Task 1.5.11: 리스트 ['A', 'B', 'C']와 [1,2,3]에 대해 이중 리스트 컴프리헨션을 작성하여라\n",
    "## 이때, 컴프리헨션의 결과 값은 모등 가능한 2-원소 리스트 [문자, 숫자]로 구성된 리스트이다.\n",
    "## 다시말해, 결과 값은 다음과 같다\n",
    "## ['A', 1], ['A', 2] ... ['C', 3]\n",
    "\n",
    "T_List = ['A', 'B', 'C']\n",
    "N_List = [1,2,3]\n",
    "[[x,y] for x in T_List for y in N_List]"
   ]
  },
  {
   "cell_type": "code",
   "execution_count": 56,
   "metadata": {
    "collapsed": false
   },
   "outputs": [
    {
     "data": {
      "text/plain": [
       "[1.1, -1, 16]"
      ]
     },
     "execution_count": 56,
     "metadata": {},
     "output_type": "execute_result"
    }
   ],
   "source": [
    "## Task 1.5.12: LofL에 어떤 리스트가 할당된다고 가정해 보자. 이때 할당되는 리스트의 원소들은 숫자들의 리스트이다.\n",
    "## 모든 리스트에 있는 모든 숫자들의 합을 평가하는 표현식을 작성하라. 이때, 표현식은 다음 형태를 가지며 \n",
    "## sum([sum(...\n",
    "## 하나의 컴프리헨션을 포함한다 [[.25, .75, .1], [-1, 0], [4, 4, 4, 4]]을 LofL에 할당한 후 작성한 표현식을 테스트 해보자.\n",
    "## 작성한 표련식은 임의 길이의 리스트에 대해 동작해야 한다.\n",
    "LofL = [[.25, .75, .1], [-1, 0], [4, 4, 4, 4]]\n",
    "# sum([sum(LofL[0])])\n",
    "[sum([sum(x)]) for x in LofL]"
   ]
  },
  {
   "cell_type": "code",
   "execution_count": 59,
   "metadata": {
    "collapsed": false
   },
   "outputs": [],
   "source": [
    "## Task 1.5.13: 할당문 왼쪽에 있는 리스트의 길이가 할당문 오른쪽 리스트의 길이와 일치하지 않을 때 무슨일이 생기는지 확인\n",
    "[x,y,z]=[1,2,3]"
   ]
  },
  {
   "cell_type": "code",
   "execution_count": 63,
   "metadata": {
    "collapsed": false
   },
   "outputs": [
    {
     "data": {
      "text/plain": [
       "[(0, 0, 0),\n",
       " (0, 2, -2),\n",
       " (0, -2, 2),\n",
       " (1, 1, -2),\n",
       " (1, -2, 1),\n",
       " (2, 0, -2),\n",
       " (2, 2, -4),\n",
       " (2, -4, 2),\n",
       " (2, -2, 0),\n",
       " (-4, 2, 2),\n",
       " (-2, 0, 2),\n",
       " (-2, 1, 1),\n",
       " (-2, 2, 0)]"
      ]
     },
     "execution_count": 63,
     "metadata": {},
     "output_type": "execute_result"
    }
   ],
   "source": [
    "## Task 1.5.14: S를 정수의 집합, 예를 들어, {-4,-2,1,2,5,0}이라 하자. 결과 값이 3-원소 터플 (i,j,k)의 리스트인 3중 컴프리헨션을\n",
    "## 작성해 보자. 이때, i, j, k는 그 합이 영이 되는 S의 원소들이다\n",
    "S = {-4,-2,1,2,5,0}\n",
    "[(x[0],x[1],x[2]) for x in [[i,j,k] for i in S for j in S for k in S] if sum((x[0],x[1],x[2])) == 0]"
   ]
  },
  {
   "cell_type": "code",
   "execution_count": 73,
   "metadata": {
    "collapsed": false
   },
   "outputs": [
    {
     "data": {
      "text/plain": [
       "[(0, 2, -2),\n",
       " (0, -2, 2),\n",
       " (1, 1, -2),\n",
       " (1, -2, 1),\n",
       " (2, 0, -2),\n",
       " (2, 2, -4),\n",
       " (2, -4, 2),\n",
       " (2, -2, 0),\n",
       " (-4, 2, 2),\n",
       " (-2, 0, 2),\n",
       " (-2, 1, 1),\n",
       " (-2, 2, 0)]"
      ]
     },
     "execution_count": 73,
     "metadata": {},
     "output_type": "execute_result"
    }
   ],
   "source": [
    "## Task 1.5.15:앞의 Task의 컴프리헨션을 수정하여 그 결과 리스트가 (0,0,0)을 포함하지 않게 해보자. 힌트 : 필터 추가 \n",
    "[(x[0],x[1],x[2]) for x in [[i,j,k] for i in S for j in S for k in S] if ((sum((x[0],x[1],x[2])) == 0) and ((x[0],x[1],x[2]) != (0,0,0)))]"
   ]
  },
  {
   "cell_type": "code",
   "execution_count": 78,
   "metadata": {
    "collapsed": false
   },
   "outputs": [
    {
     "data": {
      "text/plain": [
       "[(0, 2, -2)]"
      ]
     },
     "execution_count": 78,
     "metadata": {},
     "output_type": "execute_result"
    }
   ],
   "source": [
    "## 1.5.16: 표현식을 더 수정하여 그 결과 리스트가 첫 번째 터플을 제외한 모든 다른 터플을 포함하지 않게 해보자.\n",
    "[(x[0],x[1],x[2]) for x in [[i,j,k] for i in S for j \n",
    "in S for k in S] if ((sum((x[0],x[1],x[2])) == 0) and ((x[0],x[1],x[2]) != (0,0,0)))][:1]"
   ]
  },
  {
   "cell_type": "code",
   "execution_count": 87,
   "metadata": {
    "collapsed": false
   },
   "outputs": [
    {
     "data": {
      "text/plain": [
       "2"
      ]
     },
     "execution_count": 87,
     "metadata": {},
     "output_type": "execute_result"
    }
   ],
   "source": [
    "## Task 1.5.17: 어떤 리스트 L에 대해, len(L)과 len(list(set(L)))이 서로 다르 L의 예를 찾아보자.\n",
    "#len([0,0,1,1])\n",
    "#len(set([0,0,1,1]))"
   ]
  },
  {
   "cell_type": "code",
   "execution_count": 93,
   "metadata": {
    "collapsed": false
   },
   "outputs": [
    {
     "data": {
      "text/plain": [
       "{1,\n",
       " 3,\n",
       " 5,\n",
       " 7,\n",
       " 9,\n",
       " 11,\n",
       " 13,\n",
       " 15,\n",
       " 17,\n",
       " 19,\n",
       " 21,\n",
       " 23,\n",
       " 25,\n",
       " 27,\n",
       " 29,\n",
       " 31,\n",
       " 33,\n",
       " 35,\n",
       " 37,\n",
       " 39,\n",
       " 41,\n",
       " 43,\n",
       " 45,\n",
       " 47,\n",
       " 49,\n",
       " 51,\n",
       " 53,\n",
       " 55,\n",
       " 57,\n",
       " 59,\n",
       " 61,\n",
       " 63,\n",
       " 65,\n",
       " 67,\n",
       " 69,\n",
       " 71,\n",
       " 73,\n",
       " 75,\n",
       " 77,\n",
       " 79,\n",
       " 81,\n",
       " 83,\n",
       " 85,\n",
       " 87,\n",
       " 89,\n",
       " 91,\n",
       " 93,\n",
       " 95,\n",
       " 97,\n",
       " 99}"
      ]
     },
     "execution_count": 93,
     "metadata": {},
     "output_type": "execute_result"
    }
   ],
   "source": [
    "## Task 1.5.18: range(n)의 형태인 range에 대해 컴프리헨션을 작성해보자. 이때 컴프리헨션의 값은 1부터 99 까지 홀수들의 집합이다\n",
    "set(range(100)[1::2])"
   ]
  },
  {
   "cell_type": "code",
   "execution_count": 98,
   "metadata": {
    "collapsed": false
   },
   "outputs": [
    {
     "data": {
      "text/plain": [
       "[(0, 'A'), (1, 'B'), (2, 'C'), (3, 'D'), (4, 'E')]"
      ]
     },
     "execution_count": 98,
     "metadata": {},
     "output_type": "execute_result"
    }
   ],
   "source": [
    "## Task 1.5.19: 알파벳의 처름 다섯 문자로 구성된 리스트 ['A','B','C','D','E']를 L에 할당하다. \n",
    "## 다음에, 어떤 표현식에 L을 사용하여 그 값이 다음과 같이 되게 하자.\n",
    "## [(0, 'A'), (1,'B'), (2,'C'),(3,'D'),(4,'E')]\n",
    "## 사용하는 표현식은 range 와 zip을 사용해야 하고 컴프리헨션을 사용해서는 안된다.\n",
    "list(zip([0,1,2,3,4],['A','B','C','D','E']))"
   ]
  },
  {
   "cell_type": "code",
   "execution_count": 99,
   "metadata": {
    "collapsed": false
   },
   "outputs": [
    {
     "data": {
      "text/plain": [
       "[11, 40, 60]"
      ]
     },
     "execution_count": 99,
     "metadata": {},
     "output_type": "execute_result"
    }
   ],
   "source": [
    "## Task 1.5.20: 리스트 [10,25,40]와 [1,15,20]를 가지고 3-원소 리스트를 생성하는 컴프리헨션을 작성해 보자.\n",
    "## 이때, 3-원소 중 첫 번째는 10과 1의 합이고, 두 번째는 25오 15의 합이며, 세 번째는 40과 20의 합이다. 적성하는 표현식은\n",
    "## 리스트가 아리나 zip을 사용해야 한다.\n",
    "[x+y for (x,y) in list(zip([10,25,40],[1,15,20]))]"
   ]
  },
  {
   "cell_type": "code",
   "execution_count": 454,
   "metadata": {
    "collapsed": false
   },
   "outputs": [
    {
     "data": {
      "text/plain": [
       "['Pierce', 'Sean', 'Roger']"
      ]
     },
     "execution_count": 454,
     "metadata": {},
     "output_type": "execute_result"
    }
   ],
   "source": [
    "### Task 1.5.21: dlist는 딕셔너리들로 구성된 리스트이고 k 는 dlist의 모든 딕셔너리에 나타난는 키라고 하자. dlist에 대한 컴프리헨션을 \n",
    "## 작성해보자 이때, 결과 리스트의 i 번째 원소는 dlist의 i 번째 딕셔너리의 키 k에 대응 하는 값이다.\n",
    "## 작성한 컴프리 헨션을 테스트 해보자. 다음은 테스트 데이터의 예이다.\n",
    "k = 'James'\n",
    "dlist = [{k:x, 'director':y} for (x,y) in {('Sean', 'Terence'), ('Roger','Lewis'),('Pierce','Roger')}]\n",
    "dlist\n",
    "[x[k] for x in dlist]"
   ]
  },
  {
   "cell_type": "code",
   "execution_count": 453,
   "metadata": {
    "collapsed": false
   },
   "outputs": [
    {
     "data": {
      "text/plain": [
       "['Elijah', 'NOT PRESENT']"
      ]
     },
     "execution_count": 453,
     "metadata": {},
     "output_type": "execute_result"
    }
   ],
   "source": [
    "### Task 1.5.22: Task 1.5.21의 컴프리헨션을 수정하여 k 가 일부 딕셔너리에 나타나지 않을 수 있는 경우를 처리하게 해보자.\n",
    "## 컴프리헨션 결과 리스트의 i 번째 원소는 만약 dlist의 i 번째 딕셔너리가 키 k를 포함하면 k 에 대응 하는 그 딕셔너리의 값이고,\n",
    "## 그렇지 않으면 'NOT Present' 가 된다. \n",
    "## 작성한 컴피리헨션을 k = 'Bilbo' 와 k = 'Frodo'를 사용하고 다음의 딕셔너리 리스트를 이용하여 테스트 해보자.\n",
    "dlist = [{'Bilbo':'Ian' ,'Frodo':'Elijah'}, {'Bilbo':'Martin','Thorin':'Richard'}]\n",
    "dlist\n",
    "#k = 'Bilbo'\n",
    "k = 'Frodo'\n",
    "#[x[k] for x in dlist]\n",
    "[x[k] if k in x else 'NOT PRESENT' for x in dlist]"
   ]
  },
  {
   "cell_type": "code",
   "execution_count": 437,
   "metadata": {
    "collapsed": false
   },
   "outputs": [
    {
     "data": {
      "text/plain": [
       "{0: 0, 1: 1, 2: 4, 3: 9, 4: 16, 5: 25, 6: 36, 7: 49, 8: 64, 9: 81}"
      ]
     },
     "execution_count": 437,
     "metadata": {},
     "output_type": "execute_result"
    }
   ],
   "source": [
    "## Task 1.5.23: range를 사용하여 그 결과 값이 딕셔너리인 컴프리헨션을 작성해 보자. 키는 0 에서 99 까지의 정수이고 키에 대응 하는 \n",
    "## 값은 그 키의 제곱이 되어야 한다.\n",
    "{x:x**2 for x in set(range(10))}"
   ]
  },
  {
   "cell_type": "code",
   "execution_count": 167,
   "metadata": {
    "collapsed": false
   },
   "outputs": [
    {
     "data": {
      "text/plain": [
       "{True}"
      ]
     },
     "execution_count": 167,
     "metadata": {},
     "output_type": "execute_result"
    }
   ],
   "source": [
    "## Task 1.5.24: 변수 D에 어떤 집합을 할당해 보자. D = {'red', 'white', 'blue'}. 그 다음, D 에 대한 항등 함수를 나타내는 \n",
    "## 딕셔너리를 평가하는 컴프리헨션을 작성해 보자\n",
    "D = {'red', 'white', 'blue'}\n",
    "D_ = {x:x for x in D}\n",
    "{True and D_[x] == x for x in D}"
   ]
  },
  {
   "cell_type": "code",
   "execution_count": 436,
   "metadata": {
    "collapsed": false
   },
   "outputs": [
    {
     "data": {
      "text/plain": [
       "{0: [0, 0, 0],\n",
       " 1: [0, 0, 1],\n",
       " 2: [0, 1, 0],\n",
       " 3: [0, 1, 1],\n",
       " 4: [1, 0, 0],\n",
       " 5: [1, 0, 1],\n",
       " 6: [1, 1, 0],\n",
       " 7: [1, 1, 1]}"
      ]
     },
     "execution_count": 436,
     "metadata": {},
     "output_type": "execute_result"
    }
   ],
   "source": [
    "## Task 1.5.25: 변수 Base=10, dligits=set(range(base))를 사용하여 딕셔너리 컴프리헨션을 작성해보자. 이 컴프리헨션은 \n",
    "## 0와 999 사이의 각 정수를 10진수로 표시한 정수의 각 자리를 나타내는 세 개의 자릿수로 이루어진 리스트에 매핑한다. 이 컴프리헨션의 결과는\n",
    "## 다음과 같다. \n",
    "## {0 : [0,0,0], 1 : [0,0,1], ... 999 : [9,9,9]}\n",
    "## 작성한 표현식은 사용한 수 체계의 기수가 무엇이든 상관없이 동작해야 한다. 예를 들어, 변수 Base에 2를 할당하고 {0,1}을 digits에\n",
    "## 할당할 경우, 컴프리헨션의 결과값은 다음과 같아야 한다.\n",
    "## {0 : [0,0,0], ... , 7 : [1,1,1]}\n",
    "\n",
    "#{ (x1, x2, x3) for x1 in set(range(10)) for x2 in set(range(10)) for x3 in set(range(10))}\n",
    "base = 2;\n",
    "digits = set(range(base))\n",
    "#digits_ = [[x[0],x[1],x[2]]for x in [[i,j,k] for i in digits for j in digits for k in digits]]\n",
    "digits_ = [[i,j,k] for i in digits for j in digits for k in digits]\n",
    "{i : digits_[i] for i in range(base**3)}\n"
   ]
  },
  {
   "cell_type": "code",
   "execution_count": 235,
   "metadata": {
    "collapsed": false
   },
   "outputs": [
    {
     "data": {
      "text/plain": [
       "{'Curly': 1200.5, 'Larry': 1000, 'Moe': 990}"
      ]
     },
     "execution_count": 235,
     "metadata": {},
     "output_type": "execute_result"
    }
   ],
   "source": [
    "## Task 1.5.6: 어떤 직원들의 ID(0에서 n-1까지 정수들의 부분 집합)를 급여에 매핑하는 딕셔너리를 d 라고 하자.\n",
    "## 그리고 L은 n-원소 리스트이고, 이중 i 번째 원소는 직원 번호 i의 이름이라고 하자. 직원 이름을 급여에 매핑하는 딕셔너리가 되는\n",
    "## 컴프리헨션을 작성해 보자. 이때, 직원 이름은 모두 다르다고 가정할 수 있다. 하지만, 모든 직원 ID 가 d 에 있는 것은 아니다.\n",
    "## 작성한 컴프리헨션을 다음 데이터를 사용하여 테스트해보자.\n",
    "\n",
    "id2salary = {0:1000, 3:990, 1:1200.50}\n",
    "names = ['Larry', 'Curly', '', 'Moe']\n",
    "\n",
    "#id2salary[0]\n",
    "#id2salary.keys()\n",
    "\n",
    "d = {names[i] : v for (i,v) in id2salary.items()}\n",
    "d"
   ]
  },
  {
   "cell_type": "code",
   "execution_count": 264,
   "metadata": {
    "collapsed": false
   },
   "outputs": [
    {
     "ename": "TypeError",
     "evalue": "unsupported operand type(s) for +: 'int' and 'list'",
     "output_type": "error",
     "traceback": [
      "\u001b[0;31m---------------------------------------------------------------------------\u001b[0m",
      "\u001b[0;31mTypeError\u001b[0m                                 Traceback (most recent call last)",
      "\u001b[0;32m<ipython-input-264-24ff004cafa2>\u001b[0m in \u001b[0;36m<module>\u001b[0;34m()\u001b[0m\n\u001b[1;32m      5\u001b[0m \u001b[1;32mdef\u001b[0m \u001b[0mtwice\u001b[0m\u001b[1;33m(\u001b[0m\u001b[0mz\u001b[0m\u001b[1;33m)\u001b[0m \u001b[1;33m:\u001b[0m \u001b[1;32mreturn\u001b[0m \u001b[1;36m2\u001b[0m\u001b[1;33m+\u001b[0m\u001b[0mz\u001b[0m\u001b[1;33m\u001b[0m\u001b[0m\n\u001b[1;32m      6\u001b[0m \u001b[1;31m#twice('t')\u001b[0m\u001b[1;33m\u001b[0m\u001b[1;33m\u001b[0m\u001b[0m\n\u001b[0;32m----> 7\u001b[0;31m \u001b[0mtwice\u001b[0m\u001b[1;33m(\u001b[0m\u001b[1;33m[\u001b[0m\u001b[1;36m1\u001b[0m\u001b[1;33m,\u001b[0m\u001b[1;36m2\u001b[0m\u001b[1;33m,\u001b[0m\u001b[1;36m3\u001b[0m\u001b[1;33m]\u001b[0m\u001b[1;33m)\u001b[0m\u001b[1;33m\u001b[0m\u001b[0m\n\u001b[0m\u001b[1;32m      8\u001b[0m \u001b[1;31m#z == twice(1)\u001b[0m\u001b[1;33m\u001b[0m\u001b[1;33m\u001b[0m\u001b[0m\n",
      "\u001b[0;32m<ipython-input-264-24ff004cafa2>\u001b[0m in \u001b[0;36mtwice\u001b[0;34m(z)\u001b[0m\n\u001b[1;32m      3\u001b[0m \u001b[1;31m## 마지막으로, 파이썬이 변수 z가 포함된 표현식을 평가하게 하여 z가 어느 값에도 바인딩되어 있지 않음을 확인해보자.\u001b[0m\u001b[1;33m\u001b[0m\u001b[1;33m\u001b[0m\u001b[0m\n\u001b[1;32m      4\u001b[0m \u001b[1;33m\u001b[0m\u001b[0m\n\u001b[0;32m----> 5\u001b[0;31m \u001b[1;32mdef\u001b[0m \u001b[0mtwice\u001b[0m\u001b[1;33m(\u001b[0m\u001b[0mz\u001b[0m\u001b[1;33m)\u001b[0m \u001b[1;33m:\u001b[0m \u001b[1;32mreturn\u001b[0m \u001b[1;36m2\u001b[0m\u001b[1;33m+\u001b[0m\u001b[0mz\u001b[0m\u001b[1;33m\u001b[0m\u001b[0m\n\u001b[0m\u001b[1;32m      6\u001b[0m \u001b[1;31m#twice('t')\u001b[0m\u001b[1;33m\u001b[0m\u001b[1;33m\u001b[0m\u001b[0m\n\u001b[1;32m      7\u001b[0m \u001b[0mtwice\u001b[0m\u001b[1;33m(\u001b[0m\u001b[1;33m[\u001b[0m\u001b[1;36m1\u001b[0m\u001b[1;33m,\u001b[0m\u001b[1;36m2\u001b[0m\u001b[1;33m,\u001b[0m\u001b[1;36m3\u001b[0m\u001b[1;33m]\u001b[0m\u001b[1;33m)\u001b[0m\u001b[1;33m\u001b[0m\u001b[0m\n",
      "\u001b[0;31mTypeError\u001b[0m: unsupported operand type(s) for +: 'int' and 'list'"
     ]
    }
   ],
   "source": [
    "## Task 1.5.27: twice(z)의 정의를 타이핑하여 입력하자. 정의가 입력된 후 생략 부호(ellipsis)가 나타날 것이다.\n",
    "## 이때, 엔터키를 누르자. 그다음에, 어떤 실제 입력값을 가지고 프로시저를 호출해 보자. 재미삼아 문자열 또는 리스트를 사용해 보자.\n",
    "## 마지막으로, 파이썬이 변수 z가 포함된 표현식을 평가하게 하여 z가 어느 값에도 바인딩되어 있지 않음을 확인해보자.\n",
    "\n",
    "def twice(z) : return 2*z\n",
    "#twice('t')\n",
    "#twice([1,2,3])\n",
    "#z == twice(1)"
   ]
  },
  {
   "cell_type": "code",
   "execution_count": 271,
   "metadata": {
    "collapsed": false
   },
   "outputs": [
    {
     "data": {
      "text/plain": [
       "[2, 6, 8]"
      ]
     },
     "execution_count": 271,
     "metadata": {},
     "output_type": "execute_result"
    }
   ],
   "source": [
    "## Task 1.5.28: 다음과 같이 명시된 한 줄로 된 프로시저, nextInts(L)을 정의해 보자.\n",
    "## input: 정수들의 리스트 L\n",
    "## output : 정수들의 리스트, 이 리스트의 i 번째 원소는 L의 i 번째 원소보다 1 더 크다.\n",
    "## example. 입력 [1,5,7], 출력 [2,6,8]\n",
    "\n",
    "def nextInts(z) : return [x+1 for x in z]\n",
    "nextInts([1,5,7])"
   ]
  },
  {
   "cell_type": "code",
   "execution_count": 273,
   "metadata": {
    "collapsed": false
   },
   "outputs": [
    {
     "data": {
      "text/plain": [
       "[1, 8, 27]"
      ]
     },
     "execution_count": 273,
     "metadata": {},
     "output_type": "execute_result"
    }
   ],
   "source": [
    "## Task 1.5.29: 다음과 같이 명시된 한 줄로된 프로시져, cubs(L)을 정의해 해보자.\n",
    "## input: 숫자들의 리스트\n",
    "## output: 숫자들의 리스트, 이 리스트의 i 번째 원소는 L의 i 번째 원소의 세제곱\n",
    "## example. 입력 [1,2,3], 출력 [1,8,27]\n",
    "\n",
    "def cubs(z) : return [x**3 for x in z]\n",
    "cubs([1,2,3])"
   ]
  },
  {
   "cell_type": "code",
   "execution_count": 286,
   "metadata": {
    "collapsed": false
   },
   "outputs": [
    {
     "data": {
      "text/plain": [
       "['A', 'C', 'A']"
      ]
     },
     "execution_count": 286,
     "metadata": {},
     "output_type": "execute_result"
    }
   ],
   "source": [
    "## Task 1.5.30: 다음 스펙을 가지는 한 줄로 된 프로시저, dict2list(dct, keylist)을 정의해보자.\n",
    "## input: 딕셔너리 dct, dct의 키들로 구성된 리스트 keylist\n",
    "## output: 리스트 L, 여기서 i = 0,1,2,...,len(keylist)-1에 대해 L[i]=dct[keylist[i]]\n",
    "## example: 입력 dct={'a':'A', 'b':'B', 'c':'C'}, keylist=['b','c','a'], 출력 ['B','C','A']\n",
    "\n",
    "\n",
    "def dict2list(dct, keylist) : return [dct[x] for x in keylist]\n",
    "\n",
    "dct={'a':'A', 'b':'B', 'c':'C'}\n",
    "keylist=['b','c','a']\n",
    "\n",
    "dict2list(dct, keylist)"
   ]
  },
  {
   "cell_type": "code",
   "execution_count": 290,
   "metadata": {
    "collapsed": false
   },
   "outputs": [
    {
     "data": {
      "text/plain": [
       "{'a': 'A', 'b': 'B', 'c': 'C'}"
      ]
     },
     "execution_count": 290,
     "metadata": {},
     "output_type": "execute_result"
    }
   ],
   "source": [
    "## Task 1.5.31: 다음과 같이 명시된 한 줄로 된 프로시저,  list2dict(L, keylist)을 정의해 보자.\n",
    "## Input: 리스트 L, 변경 불가능한 원소들의 리스트\n",
    "## Output: i = 0,1,2,...,len(L)-1에 대해, keylist[i]를 L[i]에 매핑하는 딕셔너리\n",
    "## Example: 입력 L = ['A', 'B', 'C'], keylist=['a','b','c']\n",
    "##          출력 {'a':'A', 'b':'B', 'c':'C'}\n",
    "## 힌트 zip 또는 rang에 대해 컴프리헨션 적용\n",
    "\n",
    "L = ['A', 'B', 'C']\n",
    "keylist=['a','b','c']\n",
    "    \n",
    "def list2dict(L, keylist) : return {keylist[i]:L[i] for i in set(range(len(L)))}\n",
    "\n",
    "list2dict(L, keylist)"
   ]
  },
  {
   "cell_type": "code",
   "execution_count": 305,
   "metadata": {
    "collapsed": false
   },
   "outputs": [
    {
     "data": {
      "text/plain": [
       "{0, 1, 2, 3, 4, 5, 6, 7}"
      ]
     },
     "execution_count": 305,
     "metadata": {},
     "output_type": "execute_result"
    }
   ],
   "source": [
    "## Task 1.5.32: 다음 스펙을 가지는 프로시저, all_3_digit_numbers(base, digits)을 작성해보자.\n",
    "## input: 양의 정수 base, 원소가 {0,1,2,...,base-1}인 집합 digits\n",
    "## output: 기수가 base 인 3개의 자릿수로 이루어진 모든 숫자들의 집합\n",
    "\n",
    "def all_3_digit_numbers(base, digits) : \n",
    "    return {sum([x[0]*base**0,x[1]*base**1,x[2]*base**2]) for x in [[i,j,k] for i in digits for j in digits for k in digits]}\n",
    "\n",
    "base = 2;\n",
    "digits = set(range(base))\n",
    "#digits_ = [[x[0],x[1],x[2]]for x in [[i,j,k] for i in digits for j in digits for k in digits]]\n",
    "#{i : digits_[i] for i in range(base**3)}\n",
    "\n",
    "\n",
    "all_3_digit_numbers(base, {digits})"
   ]
  },
  {
   "cell_type": "code",
   "execution_count": 320,
   "metadata": {
    "collapsed": false
   },
   "outputs": [
    {
     "data": {
      "text/plain": [
       "1.0"
      ]
     },
     "execution_count": 320,
     "metadata": {},
     "output_type": "execute_result"
    }
   ],
   "source": [
    "## Task 1.6.1: 다음 명령을 사용하여 math 모듈을 임포트 해보자\n",
    "import math\n",
    "#help(math)\n",
    "#math.sqrt(-1)\n",
    "#math.cos(math.pi)\n",
    "math.log(math.e)"
   ]
  },
  {
   "cell_type": "code",
   "execution_count": 388,
   "metadata": {
    "collapsed": false
   },
   "outputs": [
    {
     "data": {
      "text/plain": [
       "'Ideological claptrap'"
      ]
     },
     "execution_count": 388,
     "metadata": {},
     "output_type": "execute_result"
    }
   ],
   "source": [
    "## Task 1.6.2: 모듈 random은 {a, a+1,...,b} 사이에서 균등하고 랜덤하게 선택된 점수를 리턴하는 프로시저 randint(a,b)를 정의한다.\n",
    "## 다음 명령을 사용하여 이 프로시저를 임포트해보자\n",
    "from random import randint\n",
    "randint(1, 100)\n",
    "\n",
    "def movie_review(names) : return names[randint(0, len(names))]\n",
    "\n",
    "movie_review([\"See it!\", \"A gem\", \"Ideological claptrap\"])"
   ]
  },
  {
   "cell_type": "code",
   "execution_count": 410,
   "metadata": {
    "collapsed": false
   },
   "outputs": [
    {
     "data": {
      "text/plain": [
       "<module 'dictutil' from 'C:\\\\Users\\\\John\\\\dictutil.py'>"
      ]
     },
     "execution_count": 410,
     "metadata": {},
     "output_type": "execute_result"
    }
   ],
   "source": [
    "## Task 1.6.3: Lab 1.5의 Task 1.5.30와 1.5.31에서, 프로시저 dict2list(dct, keylist)와 list2dict(L, Keylist)을 작성하였다\n",
    "## http:://resources.codingthematrix.com 에서 dictutil.py 파일을 다운로드\n",
    "import dictutil\n",
    "from imp import reload"
   ]
  },
  {
   "cell_type": "code",
   "execution_count": 414,
   "metadata": {
    "collapsed": false
   },
   "outputs": [
    {
     "data": {
      "text/plain": [
       "{0: 'A', 1: 'B', 2: 'C'}"
      ]
     },
     "execution_count": 414,
     "metadata": {},
     "output_type": "execute_result"
    }
   ],
   "source": [
    "## Task 1.6.4: dictutil.py를 수정하여 다음 스펙을 만족하는 프로시저 list2dict(L)을 정의해보자\n",
    "## Input: 리스트 L\n",
    "## Output: i = 0,1,2,...,len(L)-1에 대해 i를  L[i]에 매필하는 딕셔너리\n",
    "## reload(dictutil) 사용 하기\n",
    "\n",
    "reload(dictutil)\n",
    "dictutil.list2dict(['A','B','C'])"
   ]
  },
  {
   "cell_type": "code",
   "execution_count": 416,
   "metadata": {
    "collapsed": false
   },
   "outputs": [
    {
     "name": "stdout",
     "output_type": "stream",
     "text": [
      "1\n",
      "4\n",
      "9\n"
     ]
    }
   ],
   "source": [
    "## Task 1.6.5: for-루프를 파이썬에 타이핑.\n",
    "for x in [1,2,3]:\n",
    "    y = x*x\n",
    "    print(y)"
   ]
  },
  {
   "cell_type": "code",
   "execution_count": 422,
   "metadata": {
    "collapsed": false
   },
   "outputs": [
    {
     "data": {
      "text/plain": [
       "{0: 'a', 1: 'b', 2: 'c'}"
      ]
     },
     "execution_count": 422,
     "metadata": {},
     "output_type": "execute_result"
    }
   ],
   "source": [
    "## Task 1.6.6: 주어진 문자열(문서)들의 리스트에 대해 딕셔너리를 리턴하는 프로시저.\n",
    "## makeInverseIndex(strlist)을 작성해 보자. 이때, 반화되는 딕셔너리는 각 단어를 그 단어가 나타나는 문서들의 문서 번호로 \n",
    "## 이루어진 집합으로 매핑한다. 이러한 딕셔너리를 역 인텍스 자료 구조하고 한다. (힌트: enumerate)\n",
    "\n",
    "def makeInverseIndex(L):\n",
    "    return {x:y for (x,y) in enumerate(L)}\n",
    "##    return {x:L[x] for x in set(range(len(L)))}\n",
    "\n",
    "makeInverseIndex(['a','b','c'])"
   ]
  },
  {
   "cell_type": "code",
   "execution_count": 456,
   "metadata": {
    "collapsed": false
   },
   "outputs": [],
   "source": [
    "### Task 1.6.7: 역 인덱스와 질의 단어들의 리스트를 받아 들여 질의에 들어 있는 임의의 단어를 포함하는 모든 문서들을 지정하는 문서 \n",
    "## 번호들의 집합을 리턴하는 프로시저\n",
    "def orSearch(InverseIndex, query) : return"
   ]
  },
  {
   "cell_type": "code",
   "execution_count": 457,
   "metadata": {
    "collapsed": true
   },
   "outputs": [],
   "source": [
    "### Task 1.6.8: 역 인덱스와 질의 단어들의 리스트를 받아 들려 질의에 들어 있는 모든 단어들을 포함하는 모든 문서들을 지정하는 문서\n",
    "## 번호들의 집합을 리턴하는 프로시저\n",
    "def andSerch(InverseIndex, query) : return"
   ]
  },
  {
   "cell_type": "code",
   "execution_count": 460,
   "metadata": {
    "collapsed": false
   },
   "outputs": [
    {
     "data": {
      "text/plain": [
       "[2, 3, 4]"
      ]
     },
     "execution_count": 460,
     "metadata": {},
     "output_type": "execute_result"
    }
   ],
   "source": [
    "## Problem 1.8.1: Increments(L)\n",
    "## input: 숫자들의 리스트\n",
    "## output: i 번째 원소는 L의 i 번째 원소에 1이 더해진 숫자들의 리스트\n",
    "def Increments(L) : return [x+1 for x in L]\n",
    "\n",
    "Increments([1,2,3])"
   ]
  },
  {
   "cell_type": "code",
   "execution_count": 461,
   "metadata": {
    "collapsed": false
   },
   "outputs": [
    {
     "data": {
      "text/plain": [
       "[1, 8, 27]"
      ]
     },
     "execution_count": 461,
     "metadata": {},
     "output_type": "execute_result"
    }
   ],
   "source": [
    "## Problem 1.8.1: cubes(L)\n",
    "## input: 숫자들의 리스트\n",
    "## output: 숫자들의 리스트, 이 리스트의 i 번째 원소는 L의 i 번째 원소의 세제곱\n",
    "## example. 입력 [1,2,3], 출력 [1,8,27]\n",
    "\n",
    "def cubs(z) : return [x**3 for x in z]\n",
    "cubs([1,2,3])"
   ]
  },
  {
   "cell_type": "code",
   "execution_count": 525,
   "metadata": {
    "collapsed": false
   },
   "outputs": [
    {
     "data": {
      "text/plain": [
       "[(4, 6), (40, 60)]"
      ]
     },
     "execution_count": 525,
     "metadata": {},
     "output_type": "execute_result"
    }
   ],
   "source": [
    "## Problem 1.8.3: tuple_sum(A,B)\n",
    "## input: 동일한 길이의 리스트 A와 B, 각 리스트의 원소 각각은 숫자들의 쌍 (x,y)\n",
    "## output: 쌍 (x,y)의 리스트. 이 리스트의 i 번째 쌍의 첫 번째 원소는 A 내 i 번째 쌍의 첫 번째 원소와 B 내 i 번째 쌍의 첫 번째 \n",
    "## 원소의 합이다.\n",
    "## Example: 주어진 리스트 [(1,2),(10,20)]와 [(3,4),(30,40)]에 대해. [(4,6),(40,60)] 을 리턴한다.\n",
    "\n",
    "def tuple_sum(A,B) : \n",
    "    \n",
    "    L1 = A\n",
    "    L2 = B\n",
    "    L_zip = [list(zip(L1[i],L2[i])) for i in set(range(len(L1)))]\n",
    "    \n",
    "    return [(L_zip[i][0][0] + L_zip[i][0][1], L_zip[i][1][0] + L_zip[i][1][1]) for i in set(range(len(L_zip)))]\n",
    "\n",
    "# list(zip([(1,2),(3,4)],[(5,6),(7,8)]))\n",
    "# L1 = [(1,2),(5,6),(8,9)]\n",
    "# L2 = [(1,2),(5,6),(8,9)]\n",
    "# L_zip = [list(zip(L1[i],L2[i])) for i in set(range(len(L1)))]\n",
    "\n",
    "tuple_sum([(1,2),(10,20)], [(3,4),(30,40)])"
   ]
  },
  {
   "cell_type": "code",
   "execution_count": 545,
   "metadata": {
    "collapsed": false
   },
   "outputs": [
    {
     "data": {
      "text/plain": [
       "['goodbye', 'thank you']"
      ]
     },
     "execution_count": 545,
     "metadata": {},
     "output_type": "execute_result"
    }
   ],
   "source": [
    "### Problem 1.8.4: inv_dict(d)\n",
    "## input: 가역함수 f를 나타내는 딕셔너리 d\n",
    "## output: 함수 f의 역함수를 나타내는 딕셔너리, 이 딕셔너리의 키는 d의 값이고 그 값은 d의 키이다.\n",
    "## Example: 주어진 영어-프랑스어 딕셔너리에 대해\n",
    "## {'thank you': 'merci', 'goodbye':'au revoir'}\n",
    "## 프랑스어-영어 딕셔너리를 리턴한다.\n",
    "## {'merci' : 'thank you', 'au revoir' : 'goodbye'}\n",
    "\n",
    "def inv_dict(d) :\n",
    "    return {d[x] : x for x in list(d.keys())}\n",
    "\n",
    "d={'thank you': 'merci', 'goodbye':'au revoir'}\n",
    "inv_dict(d)\n",
    "list(d.keys())"
   ]
  },
  {
   "cell_type": "code",
   "execution_count": 548,
   "metadata": {
    "collapsed": false
   },
   "outputs": [
    {
     "data": {
      "text/plain": [
       "[10,\n",
       " 11,\n",
       " 12,\n",
       " 13,\n",
       " 14,\n",
       " 15,\n",
       " 16,\n",
       " 17,\n",
       " 18,\n",
       " 19,\n",
       " 20,\n",
       " 21,\n",
       " 22,\n",
       " 23,\n",
       " 24,\n",
       " 25,\n",
       " 26,\n",
       " 27,\n",
       " 28,\n",
       " 29]"
      ]
     },
     "execution_count": 548,
     "metadata": {},
     "output_type": "execute_result"
    }
   ],
   "source": [
    "## Problem 1.8.5 : 먼저 다음 스펙을 지키는 프로시저, row(p, n)을 작성해 보자.\n",
    "## input: 정수 p, n\n",
    "## output: n-원소 리스트 이 리스트의 원소 i는 p+i\n",
    "## example: 주어진 p=10, n=4에 대해 [10,11,12,13]\n",
    "\n",
    "def row(p,n):\n",
    "    return [p + i for i in set(range(n))]\n",
    "\n",
    "row(10,4)\n",
    "\n",
    "### 다음에 그 결과 값이 20-원소 리스트들의 15-원소 리스트인 컴프리센션을 작성해보다. 이때 i 번째 리스트의 j 번째 원소는 \n",
    "## i+j 이다. row(p,n)를 컴프리헨션에 사용할 수 있다.\n",
    "\n",
    "### 마지막으로, 동일한 컴프리센션을 row(p,n)를 사용하지 않고 작성해보자. (힌트 row(p,n)에 대한 호출을 row(p,n)의 몸체를\n",
    "## 형성하는 컴프리헨션으로 대체)"
   ]
  },
  {
   "cell_type": "code",
   "execution_count": null,
   "metadata": {
    "collapsed": true
   },
   "outputs": [],
   "source": []
  }
 ],
 "metadata": {
  "kernelspec": {
   "display_name": "Python 3",
   "language": "python",
   "name": "python3"
  },
  "language_info": {
   "codemirror_mode": {
    "name": "ipython",
    "version": 3
   },
   "file_extension": ".py",
   "mimetype": "text/x-python",
   "name": "python",
   "nbconvert_exporter": "python",
   "pygments_lexer": "ipython3",
   "version": "3.5.2"
  }
 },
 "nbformat": 4,
 "nbformat_minor": 2
}
